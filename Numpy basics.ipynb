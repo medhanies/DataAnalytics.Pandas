{
 "cells": [
  {
   "cell_type": "code",
   "execution_count": 1,
   "id": "95a707d7",
   "metadata": {},
   "outputs": [],
   "source": [
    "import numpy\n",
    "n = numpy.arange(27)"
   ]
  },
  {
   "cell_type": "code",
   "execution_count": 2,
   "id": "f15cf8f7",
   "metadata": {
    "collapsed": true
   },
   "outputs": [
    {
     "data": {
      "text/plain": [
       "array([[ 0,  1,  2,  3,  4,  5,  6,  7,  8],\n",
       "       [ 9, 10, 11, 12, 13, 14, 15, 16, 17],\n",
       "       [18, 19, 20, 21, 22, 23, 24, 25, 26]])"
      ]
     },
     "execution_count": 2,
     "metadata": {},
     "output_type": "execute_result"
    }
   ],
   "source": [
    "n.reshape(3,9)"
   ]
  },
  {
   "cell_type": "code",
   "execution_count": 3,
   "id": "fd7b82c4",
   "metadata": {
    "collapsed": true
   },
   "outputs": [
    {
     "data": {
      "text/plain": [
       "array([[[ 0,  1,  2],\n",
       "        [ 3,  4,  5],\n",
       "        [ 6,  7,  8]],\n",
       "\n",
       "       [[ 9, 10, 11],\n",
       "        [12, 13, 14],\n",
       "        [15, 16, 17]],\n",
       "\n",
       "       [[18, 19, 20],\n",
       "        [21, 22, 23],\n",
       "        [24, 25, 26]]])"
      ]
     },
     "execution_count": 3,
     "metadata": {},
     "output_type": "execute_result"
    }
   ],
   "source": [
    "n.reshape(3, 3, 3)"
   ]
  },
  {
   "cell_type": "code",
   "execution_count": 29,
   "id": "91ffa71a",
   "metadata": {},
   "outputs": [],
   "source": [
    "m = numpy.asarray([[123,12,123,12,33],[],[]])"
   ]
  },
  {
   "cell_type": "code",
   "execution_count": 30,
   "id": "7fdf2098",
   "metadata": {},
   "outputs": [
    {
     "data": {
      "text/plain": [
       "numpy.ndarray"
      ]
     },
     "execution_count": 30,
     "metadata": {},
     "output_type": "execute_result"
    }
   ],
   "source": [
    "type(m)"
   ]
  },
  {
   "cell_type": "code",
   "execution_count": 31,
   "id": "0f0d8495",
   "metadata": {},
   "outputs": [],
   "source": [
    "import cv2"
   ]
  },
  {
   "cell_type": "code",
   "execution_count": 47,
   "id": "2fa61e41",
   "metadata": {},
   "outputs": [],
   "source": [
    "im_g = cv2.imread(\"smallgray.png\",0)"
   ]
  },
  {
   "cell_type": "code",
   "execution_count": 48,
   "id": "7c8efdfd",
   "metadata": {
    "collapsed": true
   },
   "outputs": [
    {
     "name": "stdout",
     "output_type": "stream",
     "text": [
      "[[143 147 182]\n",
      " [121 255  97]\n",
      " [104 255 255]\n",
      " [158 125 134]\n",
      " [187 198 209]]\n"
     ]
    }
   ],
   "source": [
    "print(im_g)"
   ]
  },
  {
   "cell_type": "code",
   "execution_count": 49,
   "id": "7b7913ef",
   "metadata": {},
   "outputs": [
    {
     "data": {
      "text/plain": [
       "True"
      ]
     },
     "execution_count": 49,
     "metadata": {},
     "output_type": "execute_result"
    }
   ],
   "source": [
    "cv2.imwrite(\"newsmallgray.png\", im_g)"
   ]
  },
  {
   "cell_type": "code",
   "execution_count": 51,
   "id": "5355dc9c",
   "metadata": {},
   "outputs": [
    {
     "data": {
      "text/plain": [
       "array([[143, 147],\n",
       "       [121, 255]], dtype=uint8)"
      ]
     },
     "execution_count": 51,
     "metadata": {},
     "output_type": "execute_result"
    }
   ],
   "source": [
    "im_g[0:2, 0:2]"
   ]
  },
  {
   "cell_type": "code",
   "execution_count": 52,
   "id": "a2022ff3",
   "metadata": {},
   "outputs": [
    {
     "data": {
      "text/plain": [
       "(5, 3)"
      ]
     },
     "execution_count": 52,
     "metadata": {},
     "output_type": "execute_result"
    }
   ],
   "source": [
    "im_g.shape"
   ]
  },
  {
   "cell_type": "code",
   "execution_count": 54,
   "id": "dc1dd47f",
   "metadata": {
    "collapsed": true
   },
   "outputs": [
    {
     "name": "stdout",
     "output_type": "stream",
     "text": [
      "[143 121 104 158 187]\n",
      "[147 255 255 125 198]\n",
      "[182  97 255 134 209]\n"
     ]
    }
   ],
   "source": [
    "for i in im_g.T:\n",
    "    print(i)"
   ]
  },
  {
   "cell_type": "code",
   "execution_count": 55,
   "id": "abe1f1ff",
   "metadata": {
    "collapsed": true
   },
   "outputs": [
    {
     "name": "stdout",
     "output_type": "stream",
     "text": [
      "143\n",
      "147\n",
      "182\n",
      "121\n",
      "255\n",
      "97\n",
      "104\n",
      "255\n",
      "255\n",
      "158\n",
      "125\n",
      "134\n",
      "187\n",
      "198\n",
      "209\n"
     ]
    }
   ],
   "source": [
    "for i in im_g.flat:\n",
    "    print(i)"
   ]
  },
  {
   "cell_type": "code",
   "execution_count": 60,
   "id": "63bfc121",
   "metadata": {},
   "outputs": [],
   "source": [
    "ims = numpy.hstack((im_g, im_g, im_g))"
   ]
  },
  {
   "cell_type": "code",
   "execution_count": 61,
   "id": "77ac5263",
   "metadata": {
    "collapsed": true
   },
   "outputs": [
    {
     "name": "stdout",
     "output_type": "stream",
     "text": [
      "[[143 147 182 143 147 182 143 147 182]\n",
      " [121 255  97 121 255  97 121 255  97]\n",
      " [104 255 255 104 255 255 104 255 255]\n",
      " [158 125 134 158 125 134 158 125 134]\n",
      " [187 198 209 187 198 209 187 198 209]]\n"
     ]
    }
   ],
   "source": [
    "print(ims)"
   ]
  },
  {
   "cell_type": "code",
   "execution_count": 62,
   "id": "ecacca2c",
   "metadata": {},
   "outputs": [],
   "source": [
    "ims = numpy.vstack((im_g, im_g, im_g))"
   ]
  },
  {
   "cell_type": "code",
   "execution_count": 64,
   "id": "c99789fa",
   "metadata": {
    "collapsed": true
   },
   "outputs": [
    {
     "name": "stdout",
     "output_type": "stream",
     "text": [
      "[[143 147 182]\n",
      " [121 255  97]\n",
      " [104 255 255]\n",
      " [158 125 134]\n",
      " [187 198 209]\n",
      " [143 147 182]\n",
      " [121 255  97]\n",
      " [104 255 255]\n",
      " [158 125 134]\n",
      " [187 198 209]\n",
      " [143 147 182]\n",
      " [121 255  97]\n",
      " [104 255 255]\n",
      " [158 125 134]\n",
      " [187 198 209]]\n"
     ]
    }
   ],
   "source": [
    "print(ims)"
   ]
  },
  {
   "cell_type": "code",
   "execution_count": 68,
   "id": "c289002a",
   "metadata": {},
   "outputs": [],
   "source": [
    "lst = numpy.hsplit(ims, 3)"
   ]
  },
  {
   "cell_type": "code",
   "execution_count": 71,
   "id": "a4b34390",
   "metadata": {
    "collapsed": true
   },
   "outputs": [
    {
     "name": "stdout",
     "output_type": "stream",
     "text": [
      "[array([[143],\n",
      "       [121],\n",
      "       [104],\n",
      "       [158],\n",
      "       [187],\n",
      "       [143],\n",
      "       [121],\n",
      "       [104],\n",
      "       [158],\n",
      "       [187],\n",
      "       [143],\n",
      "       [121],\n",
      "       [104],\n",
      "       [158],\n",
      "       [187]], dtype=uint8), array([[147],\n",
      "       [255],\n",
      "       [255],\n",
      "       [125],\n",
      "       [198],\n",
      "       [147],\n",
      "       [255],\n",
      "       [255],\n",
      "       [125],\n",
      "       [198],\n",
      "       [147],\n",
      "       [255],\n",
      "       [255],\n",
      "       [125],\n",
      "       [198]], dtype=uint8), array([[182],\n",
      "       [ 97],\n",
      "       [255],\n",
      "       [134],\n",
      "       [209],\n",
      "       [182],\n",
      "       [ 97],\n",
      "       [255],\n",
      "       [134],\n",
      "       [209],\n",
      "       [182],\n",
      "       [ 97],\n",
      "       [255],\n",
      "       [134],\n",
      "       [209]], dtype=uint8)]\n"
     ]
    }
   ],
   "source": [
    "print(lst)"
   ]
  },
  {
   "cell_type": "code",
   "execution_count": null,
   "id": "91a76b6a",
   "metadata": {},
   "outputs": [],
   "source": []
  }
 ],
 "metadata": {
  "kernelspec": {
   "display_name": "Python 3",
   "language": "python",
   "name": "python3"
  },
  "language_info": {
   "codemirror_mode": {
    "name": "ipython",
    "version": 3
   },
   "file_extension": ".py",
   "mimetype": "text/x-python",
   "name": "python",
   "nbconvert_exporter": "python",
   "pygments_lexer": "ipython3",
   "version": "3.9.6"
  }
 },
 "nbformat": 4,
 "nbformat_minor": 5
}
